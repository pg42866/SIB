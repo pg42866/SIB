{
 "cells": [
  {
   "cell_type": "markdown",
   "id": "ebaff4c0",
   "metadata": {},
   "source": [
    "# Ensemble (voting)"
   ]
  },
  {
   "cell_type": "code",
   "execution_count": 15,
   "id": "099cdb15",
   "metadata": {},
   "outputs": [
    {
     "name": "stdout",
     "output_type": "stream",
     "text": [
      "The autoreload extension is already loaded. To reload it, use:\n",
      "  %reload_ext autoreload\n"
     ]
    }
   ],
   "source": [
    "%load_ext autoreload\n",
    "%autoreload 2\n",
    "from src.si.data.dataset import Dataset, summary\n",
    "from src.si.util.cv import CrossValidationScore\n",
    "import os"
   ]
  },
  {
   "cell_type": "code",
   "execution_count": 16,
   "id": "a4e1b764",
   "metadata": {},
   "outputs": [
    {
     "data": {
      "text/plain": "              A          B          C          D          E          F  \\\nmean   4.417740   3.134478   3.207439   2.806867   3.216023   3.486409   \nvar    7.917053   9.298082   8.819630   8.141527   4.896110  13.099601   \nmin    1.000000   1.000000   1.000000   1.000000   1.000000   1.000000   \nmax   10.000000  10.000000  10.000000  10.000000  10.000000  10.000000   \n\n              G          H          I         Y  \nmean   3.437768   2.866953   1.589413  0.344778  \nvar    5.937114   9.311340   2.937284  0.225906  \nmin    1.000000   1.000000   1.000000  0.000000  \nmax   10.000000  10.000000  10.000000  1.000000  ",
      "text/html": "<div>\n<style scoped>\n    .dataframe tbody tr th:only-of-type {\n        vertical-align: middle;\n    }\n\n    .dataframe tbody tr th {\n        vertical-align: top;\n    }\n\n    .dataframe thead th {\n        text-align: right;\n    }\n</style>\n<table border=\"1\" class=\"dataframe\">\n  <thead>\n    <tr style=\"text-align: right;\">\n      <th></th>\n      <th>A</th>\n      <th>B</th>\n      <th>C</th>\n      <th>D</th>\n      <th>E</th>\n      <th>F</th>\n      <th>G</th>\n      <th>H</th>\n      <th>I</th>\n      <th>Y</th>\n    </tr>\n  </thead>\n  <tbody>\n    <tr>\n      <th>mean</th>\n      <td>4.417740</td>\n      <td>3.134478</td>\n      <td>3.207439</td>\n      <td>2.806867</td>\n      <td>3.216023</td>\n      <td>3.486409</td>\n      <td>3.437768</td>\n      <td>2.866953</td>\n      <td>1.589413</td>\n      <td>0.344778</td>\n    </tr>\n    <tr>\n      <th>var</th>\n      <td>7.917053</td>\n      <td>9.298082</td>\n      <td>8.819630</td>\n      <td>8.141527</td>\n      <td>4.896110</td>\n      <td>13.099601</td>\n      <td>5.937114</td>\n      <td>9.311340</td>\n      <td>2.937284</td>\n      <td>0.225906</td>\n    </tr>\n    <tr>\n      <th>min</th>\n      <td>1.000000</td>\n      <td>1.000000</td>\n      <td>1.000000</td>\n      <td>1.000000</td>\n      <td>1.000000</td>\n      <td>1.000000</td>\n      <td>1.000000</td>\n      <td>1.000000</td>\n      <td>1.000000</td>\n      <td>0.000000</td>\n    </tr>\n    <tr>\n      <th>max</th>\n      <td>10.000000</td>\n      <td>10.000000</td>\n      <td>10.000000</td>\n      <td>10.000000</td>\n      <td>10.000000</td>\n      <td>10.000000</td>\n      <td>10.000000</td>\n      <td>10.000000</td>\n      <td>10.000000</td>\n      <td>1.000000</td>\n    </tr>\n  </tbody>\n</table>\n</div>"
     },
     "execution_count": 16,
     "metadata": {},
     "output_type": "execute_result"
    }
   ],
   "source": [
    "DIR = os.path.dirname(os.path.realpath('.'))\n",
    "filename = os.path.join(DIR, 'datasets/breast-bin.data')\n",
    "dataset = Dataset.from_data(filename)\n",
    "summary(dataset)"
   ]
  },
  {
   "cell_type": "code",
   "execution_count": 17,
   "id": "37d35baa",
   "metadata": {},
   "outputs": [],
   "source": [
    "# Use accuracy as scorring function\n",
    "from src.si.util.metrics import accuracy_score"
   ]
  },
  {
   "cell_type": "markdown",
   "id": "7c026020",
   "metadata": {},
   "source": [
    "### Decision Tree"
   ]
  },
  {
   "cell_type": "code",
   "execution_count": 18,
   "id": "c4ff4316",
   "metadata": {},
   "outputs": [],
   "source": [
    "from src.si.supervised.DT import DecisionTree"
   ]
  },
  {
   "cell_type": "code",
   "execution_count": 19,
   "id": "823981d2",
   "metadata": {},
   "outputs": [],
   "source": [
    "dt = DecisionTree()"
   ]
  },
  {
   "cell_type": "code",
   "execution_count": 20,
   "id": "6da3a381",
   "metadata": {},
   "outputs": [
    {
     "data": {
      "text/plain": "array([[0.94812165, 0.96064401, 0.96422182],\n       [0.95      , 0.93571429, 0.9       ]])"
     },
     "execution_count": 20,
     "metadata": {},
     "output_type": "execute_result"
    }
   ],
   "source": [
    "cv = CrossValidationScore(dt,dataset,score=accuracy_score)\n",
    "cv.run()\n",
    "cv.toDataframe()"
   ]
  },
  {
   "cell_type": "markdown",
   "id": "f39a7856",
   "metadata": {},
   "source": [
    "### Logistic regression"
   ]
  },
  {
   "cell_type": "code",
   "execution_count": 21,
   "id": "e5556eff",
   "metadata": {},
   "outputs": [],
   "source": [
    "from src.si.supervised.LogRegression import LogisticRegression\n",
    "logreg = LogisticRegression()\n"
   ]
  },
  {
   "cell_type": "code",
   "execution_count": 22,
   "id": "d3312a1c",
   "metadata": {},
   "outputs": [
    {
     "data": {
      "text/plain": "array([[0.88729875, 0.89445438, 0.88372093],\n       [0.91428571, 0.87142857, 0.90714286]])"
     },
     "execution_count": 22,
     "metadata": {},
     "output_type": "execute_result"
    }
   ],
   "source": [
    "cv = CrossValidationScore(logreg,dataset,score=accuracy_score)\n",
    "cv.run()\n",
    "cv.toDataframe()"
   ]
  },
  {
   "cell_type": "markdown",
   "id": "1f791e7c",
   "metadata": {},
   "source": [
    "### KNN"
   ]
  },
  {
   "cell_type": "code",
   "execution_count": 23,
   "id": "527c5a0f",
   "metadata": {},
   "outputs": [],
   "source": [
    "from src.si.supervised.KNN import KNN"
   ]
  },
  {
   "cell_type": "code",
   "execution_count": 24,
   "id": "4ee3e8ae",
   "metadata": {},
   "outputs": [],
   "source": [
    "knn = KNN(7)"
   ]
  },
  {
   "cell_type": "code",
   "execution_count": 25,
   "id": "e6d4a3fb",
   "metadata": {},
   "outputs": [
    {
     "data": {
      "text/plain": "array([[0.97674419, 0.97495528, 0.97495528],\n       [0.95      , 0.97142857, 0.99285714]])"
     },
     "execution_count": 25,
     "metadata": {},
     "output_type": "execute_result"
    }
   ],
   "source": [
    "cv = CrossValidationScore(knn,dataset,score=accuracy_score)\n",
    "cv.run()\n",
    "cv.toDataframe()"
   ]
  },
  {
   "cell_type": "markdown",
   "id": "aff0dc09",
   "metadata": {},
   "source": [
    "## Ensemble"
   ]
  },
  {
   "cell_type": "code",
   "execution_count": 26,
   "id": "0e29d9cb",
   "metadata": {},
   "outputs": [],
   "source": [
    "def fvote(preds):\n",
    "    return max(set(preds), key=preds.count)"
   ]
  },
  {
   "cell_type": "code",
   "execution_count": 27,
   "id": "5bd13628",
   "metadata": {},
   "outputs": [],
   "source": [
    "from src.si.supervised.Ensemble import Ensemble\n",
    "en = Ensemble([dt,logreg,knn],fvote,accuracy_score)"
   ]
  },
  {
   "cell_type": "code",
   "execution_count": 28,
   "id": "4cf169b1",
   "metadata": {},
   "outputs": [
    {
     "data": {
      "text/plain": "array([[0.95348837, 0.96422182, 0.9588551 ],\n       [0.97142857, 0.94285714, 0.95      ]])"
     },
     "execution_count": 28,
     "metadata": {},
     "output_type": "execute_result"
    }
   ],
   "source": [
    "cv = CrossValidationScore(en,dataset,score=accuracy_score)\n",
    "cv.run()\n",
    "cv.toDataframe()"
   ]
  }
 ],
 "metadata": {
  "kernelspec": {
   "name": "python3",
   "language": "python",
   "display_name": "Python 3 (ipykernel)"
  },
  "language_info": {
   "codemirror_mode": {
    "name": "ipython",
    "version": 3
   },
   "file_extension": ".py",
   "mimetype": "text/x-python",
   "name": "python",
   "nbconvert_exporter": "python",
   "pygments_lexer": "ipython3",
   "version": "3.8.8"
  }
 },
 "nbformat": 4,
 "nbformat_minor": 5
}